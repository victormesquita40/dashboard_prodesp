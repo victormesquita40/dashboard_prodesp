{
 "cells": [
  {
   "cell_type": "markdown",
   "id": "840240c6",
   "metadata": {},
   "source": [
    "No notebook abaixo eu busco resolver as etapas do desafio da Prodesp. Meu nome é Victor Barreto Mesquita."
   ]
  },
  {
   "cell_type": "markdown",
   "id": "801a7ade",
   "metadata": {},
   "source": [
    "# 1. Extração de dados"
   ]
  },
  {
   "cell_type": "code",
   "execution_count": 114,
   "id": "d359308b",
   "metadata": {},
   "outputs": [],
   "source": [
    "# Alguns pacotes necessários para a análise.\n",
    "import requests as rq\n",
    "import pprint as pp\n",
    "import pandas as pd\n",
    "import numpy as np"
   ]
  },
  {
   "cell_type": "markdown",
   "id": "728f977a",
   "metadata": {},
   "source": [
    "Abaixo eu defino os links que serão usados para extrair os dados do banco de dados do IBGE."
   ]
  },
  {
   "cell_type": "code",
   "execution_count": 10,
   "id": "b94aa806",
   "metadata": {},
   "outputs": [],
   "source": [
    "url_pib=\"https://servicodados.ibge.gov.br/api/v3/agregados/5938/periodos/-6/variaveis/37?localidades=N1[all]|N6[all]\""
   ]
  },
  {
   "cell_type": "code",
   "execution_count": 11,
   "id": "75dfbeda",
   "metadata": {},
   "outputs": [],
   "source": [
    "url_populacao_residente = \"https://servicodados.ibge.gov.br/api/v3/agregados/793/periodos/2007/variaveis/93?localidades=N6[all]\""
   ]
  },
  {
   "cell_type": "code",
   "execution_count": 12,
   "id": "a7466c5e",
   "metadata": {},
   "outputs": [],
   "source": [
    "url_populacao_residente_estimada = \"https://servicodados.ibge.gov.br/api/v3/agregados/6579/periodos/-6/variaveis/9324?localidades=N6[all]\""
   ]
  },
  {
   "cell_type": "markdown",
   "id": "39340c44",
   "metadata": {},
   "source": [
    "Nas linhas de código abaixo eu faço um requerimento para as url's definidas acima e obtenho uma resposta em forma de texto."
   ]
  },
  {
   "cell_type": "code",
   "execution_count": 13,
   "id": "71d8e464",
   "metadata": {},
   "outputs": [],
   "source": [
    "requisicao = rq.get(url_pib)"
   ]
  },
  {
   "cell_type": "code",
   "execution_count": 14,
   "id": "a080ba89",
   "metadata": {},
   "outputs": [],
   "source": [
    "requisicao2 = rq.get(url_populacao_residente)"
   ]
  },
  {
   "cell_type": "code",
   "execution_count": 15,
   "id": "071971cd",
   "metadata": {},
   "outputs": [],
   "source": [
    "requisicao3 = rq.get(url_populacao_residente_estimada)"
   ]
  },
  {
   "cell_type": "markdown",
   "id": "026e863b",
   "metadata": {},
   "source": [
    "Abaixo eu obtenho o json do requerimento acima."
   ]
  },
  {
   "cell_type": "code",
   "execution_count": 16,
   "id": "d5ec8762",
   "metadata": {},
   "outputs": [],
   "source": [
    "informacoes_pib = requisicao.json()"
   ]
  },
  {
   "cell_type": "code",
   "execution_count": 17,
   "id": "e564cd80",
   "metadata": {},
   "outputs": [],
   "source": [
    "informacoes_populacao = requisicao2.json()"
   ]
  },
  {
   "cell_type": "code",
   "execution_count": 18,
   "id": "30521243",
   "metadata": {},
   "outputs": [],
   "source": [
    "informacoes_populacao_residente_estimada = requisicao3.json()"
   ]
  },
  {
   "cell_type": "markdown",
   "id": "267f3b71",
   "metadata": {},
   "source": [
    "Nas linhas de código abaixo eu realizo algumas operações nas listas e dicionários buscando obter as informações que eu quero"
   ]
  },
  {
   "cell_type": "code",
   "execution_count": 19,
   "id": "1230e585",
   "metadata": {},
   "outputs": [],
   "source": [
    "item_busca = informacoes_pib[0]['variavel']\n",
    "resultados = informacoes_pib[0]['resultados'][0]['series']"
   ]
  },
  {
   "cell_type": "code",
   "execution_count": 20,
   "id": "9db59329",
   "metadata": {},
   "outputs": [],
   "source": [
    "item_busca2 = informacoes_populacao[0]['variavel']\n",
    "resultados2 = informacoes_populacao[0]['resultados'][0]['series']"
   ]
  },
  {
   "cell_type": "code",
   "execution_count": 21,
   "id": "8a4b4fa9",
   "metadata": {},
   "outputs": [],
   "source": [
    "item_busca3 = informacoes_populacao_residente_estimada[0]['variavel']\n",
    "resultados3 = informacoes_populacao_residente_estimada[0]['resultados'][0]['series']"
   ]
  },
  {
   "cell_type": "markdown",
   "id": "afca334d",
   "metadata": {},
   "source": [
    "Abaixo eu crio um loop para criar uma lista apenas com informações como id da cidade, nome da cidade e ano em que foi obtido os dados."
   ]
  },
  {
   "cell_type": "code",
   "execution_count": 110,
   "id": "34ba4343",
   "metadata": {},
   "outputs": [],
   "source": [
    "dados = []"
   ]
  },
  {
   "cell_type": "code",
   "execution_count": 111,
   "id": "752aeecf",
   "metadata": {},
   "outputs": [],
   "source": [
    "for i in range(len(informacoes_pib[0]['resultados'][0]['series'])):\n",
    "    dados.append(informacoes_pib[0]['resultados'][0]['series'][i]['localidade']['id'])\n",
    "    dados.append(informacoes_pib[0]['resultados'][0]['series'][i]['localidade']['nome'])\n",
    "    dados.append(informacoes_pib[0]['resultados'][0]['series'][i]['serie']['2021'])\n",
    "    "
   ]
  },
  {
   "cell_type": "markdown",
   "id": "8c23ae9e",
   "metadata": {},
   "source": [
    "Abaixo eu crio um dataframe com as informações acima."
   ]
  },
  {
   "cell_type": "code",
   "execution_count": 115,
   "id": "29f5c072",
   "metadata": {
    "scrolled": true
   },
   "outputs": [],
   "source": [
    "matriz_np = np.array(dados)"
   ]
  },
  {
   "cell_type": "code",
   "execution_count": 118,
   "id": "7edfd3c3",
   "metadata": {},
   "outputs": [],
   "source": [
    "matriz_ajustada = np.reshape(matriz_np,(len(informacoes_pib[0]['resultados'][0]['series']),3))"
   ]
  },
  {
   "cell_type": "code",
   "execution_count": 151,
   "id": "765a7a1b",
   "metadata": {},
   "outputs": [
    {
     "data": {
      "text/html": [
       "<div>\n",
       "<style scoped>\n",
       "    .dataframe tbody tr th:only-of-type {\n",
       "        vertical-align: middle;\n",
       "    }\n",
       "\n",
       "    .dataframe tbody tr th {\n",
       "        vertical-align: top;\n",
       "    }\n",
       "\n",
       "    .dataframe thead tr th {\n",
       "        text-align: left;\n",
       "    }\n",
       "</style>\n",
       "<table border=\"1\" class=\"dataframe\">\n",
       "  <thead>\n",
       "    <tr>\n",
       "      <th></th>\n",
       "      <th>id</th>\n",
       "      <th>cidade</th>\n",
       "      <th>PIB</th>\n",
       "    </tr>\n",
       "  </thead>\n",
       "  <tbody>\n",
       "    <tr>\n",
       "      <th>1</th>\n",
       "      <td>1100015</td>\n",
       "      <td>Alta Floresta D'Oeste - RO</td>\n",
       "      <td>734469</td>\n",
       "    </tr>\n",
       "    <tr>\n",
       "      <th>2</th>\n",
       "      <td>1100023</td>\n",
       "      <td>Ariquemes - RO</td>\n",
       "      <td>3209761</td>\n",
       "    </tr>\n",
       "    <tr>\n",
       "      <th>3</th>\n",
       "      <td>1100031</td>\n",
       "      <td>Cabixi - RO</td>\n",
       "      <td>238412</td>\n",
       "    </tr>\n",
       "    <tr>\n",
       "      <th>4</th>\n",
       "      <td>1100049</td>\n",
       "      <td>Cacoal - RO</td>\n",
       "      <td>2792383</td>\n",
       "    </tr>\n",
       "    <tr>\n",
       "      <th>5</th>\n",
       "      <td>1100056</td>\n",
       "      <td>Cerejeiras - RO</td>\n",
       "      <td>743037</td>\n",
       "    </tr>\n",
       "    <tr>\n",
       "      <th>...</th>\n",
       "      <td>...</td>\n",
       "      <td>...</td>\n",
       "      <td>...</td>\n",
       "    </tr>\n",
       "    <tr>\n",
       "      <th>5566</th>\n",
       "      <td>5222005</td>\n",
       "      <td>Vianópolis - GO</td>\n",
       "      <td>857968</td>\n",
       "    </tr>\n",
       "    <tr>\n",
       "      <th>5567</th>\n",
       "      <td>5222054</td>\n",
       "      <td>Vicentinópolis - GO</td>\n",
       "      <td>480173</td>\n",
       "    </tr>\n",
       "    <tr>\n",
       "      <th>5568</th>\n",
       "      <td>5222203</td>\n",
       "      <td>Vila Boa - GO</td>\n",
       "      <td>179899</td>\n",
       "    </tr>\n",
       "    <tr>\n",
       "      <th>5569</th>\n",
       "      <td>5222302</td>\n",
       "      <td>Vila Propício - GO</td>\n",
       "      <td>308013</td>\n",
       "    </tr>\n",
       "    <tr>\n",
       "      <th>5570</th>\n",
       "      <td>5300108</td>\n",
       "      <td>Brasília - DF</td>\n",
       "      <td>286943782</td>\n",
       "    </tr>\n",
       "  </tbody>\n",
       "</table>\n",
       "<p>5570 rows × 3 columns</p>\n",
       "</div>"
      ],
      "text/plain": [
       "           id                      cidade        PIB\n",
       "1     1100015  Alta Floresta D'Oeste - RO     734469\n",
       "2     1100023              Ariquemes - RO    3209761\n",
       "3     1100031                 Cabixi - RO     238412\n",
       "4     1100049                 Cacoal - RO    2792383\n",
       "5     1100056             Cerejeiras - RO     743037\n",
       "...       ...                         ...        ...\n",
       "5566  5222005             Vianópolis - GO     857968\n",
       "5567  5222054         Vicentinópolis - GO     480173\n",
       "5568  5222203               Vila Boa - GO     179899\n",
       "5569  5222302          Vila Propício - GO     308013\n",
       "5570  5300108               Brasília - DF  286943782\n",
       "\n",
       "[5570 rows x 3 columns]"
      ]
     },
     "execution_count": 151,
     "metadata": {},
     "output_type": "execute_result"
    }
   ],
   "source": [
    "df_pib = pd.DataFrame(matriz_ajustada,columns=[['id','cidade','PIB']])\n",
    "df_pib.reset_index(drop=True)\n",
    "df_pib = df_pib[1:];df_pib"
   ]
  },
  {
   "cell_type": "markdown",
   "id": "f86a9ca0",
   "metadata": {},
   "source": [
    "Aqui eu repito os procedimentos acima para criar um dataframe com as informações sobre a população."
   ]
  },
  {
   "cell_type": "code",
   "execution_count": 126,
   "id": "0965659a",
   "metadata": {},
   "outputs": [],
   "source": [
    "dados2=[]"
   ]
  },
  {
   "cell_type": "code",
   "execution_count": 127,
   "id": "36a02582",
   "metadata": {},
   "outputs": [],
   "source": [
    "for i in range(len(informacoes_populacao_residente_estimada[0]['resultados'][0]['series'])):\n",
    "    dados2.append(informacoes_populacao_residente_estimada[0]['resultados'][0]['series'][i]['localidade']['id'])\n",
    "    dados2.append(informacoes_populacao_residente_estimada[0]['resultados'][0]['series'][i]['localidade']['nome'])\n",
    "    dados2.append(informacoes_populacao_residente_estimada[0]['resultados'][0]['series'][i]['serie']['2021'])"
   ]
  },
  {
   "cell_type": "code",
   "execution_count": 129,
   "id": "94ada6ac",
   "metadata": {},
   "outputs": [],
   "source": [
    "matriz_np2 = np.array(dados2)"
   ]
  },
  {
   "cell_type": "code",
   "execution_count": 130,
   "id": "b065f5e7",
   "metadata": {},
   "outputs": [],
   "source": [
    "matriz_ajustada2 = np.reshape(matriz_np2,(len(informacoes_populacao_residente_estimada[0]['resultados'][0]['series']),3))"
   ]
  },
  {
   "cell_type": "code",
   "execution_count": 327,
   "id": "4520bc98",
   "metadata": {},
   "outputs": [
    {
     "data": {
      "text/html": [
       "<div>\n",
       "<style scoped>\n",
       "    .dataframe tbody tr th:only-of-type {\n",
       "        vertical-align: middle;\n",
       "    }\n",
       "\n",
       "    .dataframe tbody tr th {\n",
       "        vertical-align: top;\n",
       "    }\n",
       "\n",
       "    .dataframe thead tr th {\n",
       "        text-align: left;\n",
       "    }\n",
       "</style>\n",
       "<table border=\"1\" class=\"dataframe\">\n",
       "  <thead>\n",
       "    <tr>\n",
       "      <th></th>\n",
       "      <th>id</th>\n",
       "      <th>cidade</th>\n",
       "      <th>populacao</th>\n",
       "    </tr>\n",
       "  </thead>\n",
       "  <tbody>\n",
       "    <tr>\n",
       "      <th>1</th>\n",
       "      <td>1100015</td>\n",
       "      <td>Alta Floresta D'Oeste - RO</td>\n",
       "      <td>22516</td>\n",
       "    </tr>\n",
       "    <tr>\n",
       "      <th>2</th>\n",
       "      <td>1100023</td>\n",
       "      <td>Ariquemes - RO</td>\n",
       "      <td>111148</td>\n",
       "    </tr>\n",
       "    <tr>\n",
       "      <th>3</th>\n",
       "      <td>1100031</td>\n",
       "      <td>Cabixi - RO</td>\n",
       "      <td>5067</td>\n",
       "    </tr>\n",
       "    <tr>\n",
       "      <th>4</th>\n",
       "      <td>1100049</td>\n",
       "      <td>Cacoal - RO</td>\n",
       "      <td>86416</td>\n",
       "    </tr>\n",
       "    <tr>\n",
       "      <th>5</th>\n",
       "      <td>1100056</td>\n",
       "      <td>Cerejeiras - RO</td>\n",
       "      <td>16088</td>\n",
       "    </tr>\n",
       "    <tr>\n",
       "      <th>...</th>\n",
       "      <td>...</td>\n",
       "      <td>...</td>\n",
       "      <td>...</td>\n",
       "    </tr>\n",
       "    <tr>\n",
       "      <th>5566</th>\n",
       "      <td>5222005</td>\n",
       "      <td>Vianópolis - GO</td>\n",
       "      <td>14088</td>\n",
       "    </tr>\n",
       "    <tr>\n",
       "      <th>5567</th>\n",
       "      <td>5222054</td>\n",
       "      <td>Vicentinópolis - GO</td>\n",
       "      <td>9002</td>\n",
       "    </tr>\n",
       "    <tr>\n",
       "      <th>5568</th>\n",
       "      <td>5222203</td>\n",
       "      <td>Vila Boa - GO</td>\n",
       "      <td>6451</td>\n",
       "    </tr>\n",
       "    <tr>\n",
       "      <th>5569</th>\n",
       "      <td>5222302</td>\n",
       "      <td>Vila Propício - GO</td>\n",
       "      <td>5941</td>\n",
       "    </tr>\n",
       "    <tr>\n",
       "      <th>5570</th>\n",
       "      <td>5300108</td>\n",
       "      <td>Brasília - DF</td>\n",
       "      <td>3094325</td>\n",
       "    </tr>\n",
       "  </tbody>\n",
       "</table>\n",
       "<p>5570 rows × 3 columns</p>\n",
       "</div>"
      ],
      "text/plain": [
       "           id                      cidade populacao\n",
       "1     1100015  Alta Floresta D'Oeste - RO     22516\n",
       "2     1100023              Ariquemes - RO    111148\n",
       "3     1100031                 Cabixi - RO      5067\n",
       "4     1100049                 Cacoal - RO     86416\n",
       "5     1100056             Cerejeiras - RO     16088\n",
       "...       ...                         ...       ...\n",
       "5566  5222005             Vianópolis - GO     14088\n",
       "5567  5222054         Vicentinópolis - GO      9002\n",
       "5568  5222203               Vila Boa - GO      6451\n",
       "5569  5222302          Vila Propício - GO      5941\n",
       "5570  5300108               Brasília - DF   3094325\n",
       "\n",
       "[5570 rows x 3 columns]"
      ]
     },
     "execution_count": 327,
     "metadata": {},
     "output_type": "execute_result"
    }
   ],
   "source": [
    "df_populacao = pd.DataFrame(matriz_ajustada2,columns=[['id','cidade','populacao']])\n",
    "df_populacao.index = df_pib.index"
   ]
  },
  {
   "cell_type": "markdown",
   "id": "d5cf2288",
   "metadata": {},
   "source": [
    "Abaixo eu acrescento o PIB municipal no dataframe de populações das cidades."
   ]
  },
  {
   "cell_type": "code",
   "execution_count": 334,
   "id": "7b472869",
   "metadata": {},
   "outputs": [
    {
     "name": "stdout",
     "output_type": "stream",
     "text": [
      "<class 'pandas.core.frame.DataFrame'>\n",
      "RangeIndex: 5570 entries, 1 to 5570\n",
      "Data columns (total 4 columns):\n",
      " #   Column        Non-Null Count  Dtype \n",
      "---  ------        --------------  ----- \n",
      " 0   (id,)         5570 non-null   int32 \n",
      " 1   (cidade,)     5570 non-null   object\n",
      " 2   (populacao,)  5570 non-null   object\n",
      " 3   (PIB,)        5570 non-null   object\n",
      "dtypes: int32(1), object(3)\n",
      "memory usage: 152.4+ KB\n"
     ]
    }
   ],
   "source": [
    "df_populacao['PIB'] = df_pib['PIB']\n",
    "df_populacao['id']=df_populacao['id'].astype('int')\n",
    "df_populacao.info()"
   ]
  },
  {
   "cell_type": "markdown",
   "id": "122356e3",
   "metadata": {},
   "source": [
    "Criei uma coluna chamada 'id2' para ficar mais parecida com o outro dataframe."
   ]
  },
  {
   "cell_type": "code",
   "execution_count": 335,
   "id": "5bce65b9",
   "metadata": {
    "scrolled": true
   },
   "outputs": [],
   "source": [
    "df_populacao['id2'] = df_populacao['id']//10"
   ]
  },
  {
   "cell_type": "code",
   "execution_count": 336,
   "id": "533aa5c9",
   "metadata": {},
   "outputs": [
    {
     "data": {
      "text/html": [
       "<div>\n",
       "<style scoped>\n",
       "    .dataframe tbody tr th:only-of-type {\n",
       "        vertical-align: middle;\n",
       "    }\n",
       "\n",
       "    .dataframe tbody tr th {\n",
       "        vertical-align: top;\n",
       "    }\n",
       "\n",
       "    .dataframe thead tr th {\n",
       "        text-align: left;\n",
       "    }\n",
       "</style>\n",
       "<table border=\"1\" class=\"dataframe\">\n",
       "  <thead>\n",
       "    <tr>\n",
       "      <th></th>\n",
       "      <th>id</th>\n",
       "      <th>cidade</th>\n",
       "      <th>populacao</th>\n",
       "      <th>PIB</th>\n",
       "      <th>id2</th>\n",
       "    </tr>\n",
       "  </thead>\n",
       "  <tbody>\n",
       "    <tr>\n",
       "      <th>1</th>\n",
       "      <td>1100015</td>\n",
       "      <td>Alta Floresta D'Oeste - RO</td>\n",
       "      <td>22516</td>\n",
       "      <td>734469</td>\n",
       "      <td>110001</td>\n",
       "    </tr>\n",
       "    <tr>\n",
       "      <th>2</th>\n",
       "      <td>1100023</td>\n",
       "      <td>Ariquemes - RO</td>\n",
       "      <td>111148</td>\n",
       "      <td>3209761</td>\n",
       "      <td>110002</td>\n",
       "    </tr>\n",
       "    <tr>\n",
       "      <th>3</th>\n",
       "      <td>1100031</td>\n",
       "      <td>Cabixi - RO</td>\n",
       "      <td>5067</td>\n",
       "      <td>238412</td>\n",
       "      <td>110003</td>\n",
       "    </tr>\n",
       "    <tr>\n",
       "      <th>4</th>\n",
       "      <td>1100049</td>\n",
       "      <td>Cacoal - RO</td>\n",
       "      <td>86416</td>\n",
       "      <td>2792383</td>\n",
       "      <td>110004</td>\n",
       "    </tr>\n",
       "    <tr>\n",
       "      <th>5</th>\n",
       "      <td>1100056</td>\n",
       "      <td>Cerejeiras - RO</td>\n",
       "      <td>16088</td>\n",
       "      <td>743037</td>\n",
       "      <td>110005</td>\n",
       "    </tr>\n",
       "    <tr>\n",
       "      <th>...</th>\n",
       "      <td>...</td>\n",
       "      <td>...</td>\n",
       "      <td>...</td>\n",
       "      <td>...</td>\n",
       "      <td>...</td>\n",
       "    </tr>\n",
       "    <tr>\n",
       "      <th>5566</th>\n",
       "      <td>5222005</td>\n",
       "      <td>Vianópolis - GO</td>\n",
       "      <td>14088</td>\n",
       "      <td>857968</td>\n",
       "      <td>522200</td>\n",
       "    </tr>\n",
       "    <tr>\n",
       "      <th>5567</th>\n",
       "      <td>5222054</td>\n",
       "      <td>Vicentinópolis - GO</td>\n",
       "      <td>9002</td>\n",
       "      <td>480173</td>\n",
       "      <td>522205</td>\n",
       "    </tr>\n",
       "    <tr>\n",
       "      <th>5568</th>\n",
       "      <td>5222203</td>\n",
       "      <td>Vila Boa - GO</td>\n",
       "      <td>6451</td>\n",
       "      <td>179899</td>\n",
       "      <td>522220</td>\n",
       "    </tr>\n",
       "    <tr>\n",
       "      <th>5569</th>\n",
       "      <td>5222302</td>\n",
       "      <td>Vila Propício - GO</td>\n",
       "      <td>5941</td>\n",
       "      <td>308013</td>\n",
       "      <td>522230</td>\n",
       "    </tr>\n",
       "    <tr>\n",
       "      <th>5570</th>\n",
       "      <td>5300108</td>\n",
       "      <td>Brasília - DF</td>\n",
       "      <td>3094325</td>\n",
       "      <td>286943782</td>\n",
       "      <td>530010</td>\n",
       "    </tr>\n",
       "  </tbody>\n",
       "</table>\n",
       "<p>5570 rows × 5 columns</p>\n",
       "</div>"
      ],
      "text/plain": [
       "           id                      cidade populacao        PIB     id2\n",
       "1     1100015  Alta Floresta D'Oeste - RO     22516     734469  110001\n",
       "2     1100023              Ariquemes - RO    111148    3209761  110002\n",
       "3     1100031                 Cabixi - RO      5067     238412  110003\n",
       "4     1100049                 Cacoal - RO     86416    2792383  110004\n",
       "5     1100056             Cerejeiras - RO     16088     743037  110005\n",
       "...       ...                         ...       ...        ...     ...\n",
       "5566  5222005             Vianópolis - GO     14088     857968  522200\n",
       "5567  5222054         Vicentinópolis - GO      9002     480173  522205\n",
       "5568  5222203               Vila Boa - GO      6451     179899  522220\n",
       "5569  5222302          Vila Propício - GO      5941     308013  522230\n",
       "5570  5300108               Brasília - DF   3094325  286943782  530010\n",
       "\n",
       "[5570 rows x 5 columns]"
      ]
     },
     "execution_count": 336,
     "metadata": {},
     "output_type": "execute_result"
    }
   ],
   "source": [
    "df_populacao"
   ]
  },
  {
   "cell_type": "markdown",
   "id": "c8a07b5e",
   "metadata": {},
   "source": [
    "Eu não encontrei dados de IDH no site do IBGE, então busquei essa informação no site do IPEA e fiz o download do arquivo CSV."
   ]
  },
  {
   "cell_type": "code",
   "execution_count": 304,
   "id": "3a63af1d",
   "metadata": {},
   "outputs": [
    {
     "data": {
      "text/html": [
       "<div>\n",
       "<style scoped>\n",
       "    .dataframe tbody tr th:only-of-type {\n",
       "        vertical-align: middle;\n",
       "    }\n",
       "\n",
       "    .dataframe tbody tr th {\n",
       "        vertical-align: top;\n",
       "    }\n",
       "\n",
       "    .dataframe thead th {\n",
       "        text-align: right;\n",
       "    }\n",
       "</style>\n",
       "<table border=\"1\" class=\"dataframe\">\n",
       "  <thead>\n",
       "    <tr style=\"text-align: right;\">\n",
       "      <th></th>\n",
       "      <th>id</th>\n",
       "      <th>cidade</th>\n",
       "      <th>codigo_uf</th>\n",
       "      <th>nome_uf</th>\n",
       "      <th>IDHM</th>\n",
       "    </tr>\n",
       "  </thead>\n",
       "  <tbody>\n",
       "    <tr>\n",
       "      <th>0</th>\n",
       "      <td>110001</td>\n",
       "      <td>ALTA FLORESTA D'OESTE</td>\n",
       "      <td>11</td>\n",
       "      <td>Rondônia</td>\n",
       "      <td>0,641</td>\n",
       "    </tr>\n",
       "    <tr>\n",
       "      <th>1</th>\n",
       "      <td>110002</td>\n",
       "      <td>ARIQUEMES</td>\n",
       "      <td>11</td>\n",
       "      <td>Rondônia</td>\n",
       "      <td>0,702</td>\n",
       "    </tr>\n",
       "    <tr>\n",
       "      <th>2</th>\n",
       "      <td>110003</td>\n",
       "      <td>CABIXI</td>\n",
       "      <td>11</td>\n",
       "      <td>Rondônia</td>\n",
       "      <td>0,65</td>\n",
       "    </tr>\n",
       "    <tr>\n",
       "      <th>3</th>\n",
       "      <td>110004</td>\n",
       "      <td>CACOAL</td>\n",
       "      <td>11</td>\n",
       "      <td>Rondônia</td>\n",
       "      <td>0,718</td>\n",
       "    </tr>\n",
       "    <tr>\n",
       "      <th>4</th>\n",
       "      <td>110005</td>\n",
       "      <td>CEREJEIRAS</td>\n",
       "      <td>11</td>\n",
       "      <td>Rondônia</td>\n",
       "      <td>0,692</td>\n",
       "    </tr>\n",
       "    <tr>\n",
       "      <th>...</th>\n",
       "      <td>...</td>\n",
       "      <td>...</td>\n",
       "      <td>...</td>\n",
       "      <td>...</td>\n",
       "      <td>...</td>\n",
       "    </tr>\n",
       "    <tr>\n",
       "      <th>5559</th>\n",
       "      <td>522200</td>\n",
       "      <td>VIANÓPOLIS</td>\n",
       "      <td>52</td>\n",
       "      <td>Goiás</td>\n",
       "      <td>0,712</td>\n",
       "    </tr>\n",
       "    <tr>\n",
       "      <th>5560</th>\n",
       "      <td>522205</td>\n",
       "      <td>VICENTINÓPOLIS</td>\n",
       "      <td>52</td>\n",
       "      <td>Goiás</td>\n",
       "      <td>0,684</td>\n",
       "    </tr>\n",
       "    <tr>\n",
       "      <th>5561</th>\n",
       "      <td>522220</td>\n",
       "      <td>VILA BOA</td>\n",
       "      <td>52</td>\n",
       "      <td>Goiás</td>\n",
       "      <td>0,647</td>\n",
       "    </tr>\n",
       "    <tr>\n",
       "      <th>5562</th>\n",
       "      <td>522230</td>\n",
       "      <td>VILA PROPÍCIO</td>\n",
       "      <td>52</td>\n",
       "      <td>Goiás</td>\n",
       "      <td>0,634</td>\n",
       "    </tr>\n",
       "    <tr>\n",
       "      <th>5563</th>\n",
       "      <td>530010</td>\n",
       "      <td>BRASÍLIA</td>\n",
       "      <td>53</td>\n",
       "      <td>Distrito Federal</td>\n",
       "      <td>0,824</td>\n",
       "    </tr>\n",
       "  </tbody>\n",
       "</table>\n",
       "<p>5564 rows × 5 columns</p>\n",
       "</div>"
      ],
      "text/plain": [
       "          id                 cidade  codigo_uf           nome_uf   IDHM\n",
       "0     110001  ALTA FLORESTA D'OESTE         11          Rondônia  0,641\n",
       "1     110002              ARIQUEMES         11          Rondônia  0,702\n",
       "2     110003                 CABIXI         11          Rondônia   0,65\n",
       "3     110004                 CACOAL         11          Rondônia  0,718\n",
       "4     110005             CEREJEIRAS         11          Rondônia  0,692\n",
       "...      ...                    ...        ...               ...    ...\n",
       "5559  522200             VIANÓPOLIS         52             Goiás  0,712\n",
       "5560  522205         VICENTINÓPOLIS         52             Goiás  0,684\n",
       "5561  522220               VILA BOA         52             Goiás  0,647\n",
       "5562  522230          VILA PROPÍCIO         52             Goiás  0,634\n",
       "5563  530010               BRASÍLIA         53  Distrito Federal  0,824\n",
       "\n",
       "[5564 rows x 5 columns]"
      ]
     },
     "execution_count": 304,
     "metadata": {},
     "output_type": "execute_result"
    }
   ],
   "source": [
    "IDH_data = pd.read_csv('C:\\\\Users\\\\User\\\\Downloads\\\\iDH_2010.csv',sep=';')\n",
    "IDHM = IDH_data[['Código do Município','Município','Código da Unidade da Federação','Nome da Unidade da Federação','IDHM']]\n",
    "IDHM.columns = ['id','cidade','codigo_uf','nome_uf','IDHM'];IDHM"
   ]
  },
  {
   "cell_type": "markdown",
   "id": "6e680192",
   "metadata": {},
   "source": [
    "Juntar as informações dessa base com a anterior pelo chave id"
   ]
  },
  {
   "cell_type": "code",
   "execution_count": 356,
   "id": "43f41415",
   "metadata": {},
   "outputs": [
    {
     "name": "stdout",
     "output_type": "stream",
     "text": [
      "<class 'pandas.core.frame.DataFrame'>\n",
      "RangeIndex: 5570 entries, 1 to 5570\n",
      "Data columns (total 5 columns):\n",
      " #   Column     Non-Null Count  Dtype \n",
      "---  ------     --------------  ----- \n",
      " 0   id         5570 non-null   int32 \n",
      " 1   cidade     5570 non-null   object\n",
      " 2   populacao  5570 non-null   object\n",
      " 3   PIB        5570 non-null   object\n",
      " 4   id2        5570 non-null   int32 \n",
      "dtypes: int32(2), object(3)\n",
      "memory usage: 174.2+ KB\n"
     ]
    }
   ],
   "source": [
    "df_populacao.columns = ['id','cidade','populacao','PIB','id2']\n",
    "df_populacao.info()"
   ]
  },
  {
   "cell_type": "code",
   "execution_count": 360,
   "id": "13987d1f",
   "metadata": {},
   "outputs": [
    {
     "data": {
      "text/html": [
       "<div>\n",
       "<style scoped>\n",
       "    .dataframe tbody tr th:only-of-type {\n",
       "        vertical-align: middle;\n",
       "    }\n",
       "\n",
       "    .dataframe tbody tr th {\n",
       "        vertical-align: top;\n",
       "    }\n",
       "\n",
       "    .dataframe thead th {\n",
       "        text-align: right;\n",
       "    }\n",
       "</style>\n",
       "<table border=\"1\" class=\"dataframe\">\n",
       "  <thead>\n",
       "    <tr style=\"text-align: right;\">\n",
       "      <th></th>\n",
       "      <th>id</th>\n",
       "      <th>cidade</th>\n",
       "      <th>populacao</th>\n",
       "      <th>PIB</th>\n",
       "      <th>codigo_uf</th>\n",
       "      <th>nome_uf</th>\n",
       "      <th>IDHM</th>\n",
       "    </tr>\n",
       "  </thead>\n",
       "  <tbody>\n",
       "    <tr>\n",
       "      <th>0</th>\n",
       "      <td>110001</td>\n",
       "      <td>Alta Floresta D'Oeste - RO</td>\n",
       "      <td>22516</td>\n",
       "      <td>734469</td>\n",
       "      <td>11</td>\n",
       "      <td>Rondônia</td>\n",
       "      <td>0,641</td>\n",
       "    </tr>\n",
       "    <tr>\n",
       "      <th>1</th>\n",
       "      <td>110002</td>\n",
       "      <td>Ariquemes - RO</td>\n",
       "      <td>111148</td>\n",
       "      <td>3209761</td>\n",
       "      <td>11</td>\n",
       "      <td>Rondônia</td>\n",
       "      <td>0,702</td>\n",
       "    </tr>\n",
       "    <tr>\n",
       "      <th>2</th>\n",
       "      <td>110003</td>\n",
       "      <td>Cabixi - RO</td>\n",
       "      <td>5067</td>\n",
       "      <td>238412</td>\n",
       "      <td>11</td>\n",
       "      <td>Rondônia</td>\n",
       "      <td>0,65</td>\n",
       "    </tr>\n",
       "    <tr>\n",
       "      <th>3</th>\n",
       "      <td>110004</td>\n",
       "      <td>Cacoal - RO</td>\n",
       "      <td>86416</td>\n",
       "      <td>2792383</td>\n",
       "      <td>11</td>\n",
       "      <td>Rondônia</td>\n",
       "      <td>0,718</td>\n",
       "    </tr>\n",
       "    <tr>\n",
       "      <th>4</th>\n",
       "      <td>110005</td>\n",
       "      <td>Cerejeiras - RO</td>\n",
       "      <td>16088</td>\n",
       "      <td>743037</td>\n",
       "      <td>11</td>\n",
       "      <td>Rondônia</td>\n",
       "      <td>0,692</td>\n",
       "    </tr>\n",
       "    <tr>\n",
       "      <th>...</th>\n",
       "      <td>...</td>\n",
       "      <td>...</td>\n",
       "      <td>...</td>\n",
       "      <td>...</td>\n",
       "      <td>...</td>\n",
       "      <td>...</td>\n",
       "      <td>...</td>\n",
       "    </tr>\n",
       "    <tr>\n",
       "      <th>5559</th>\n",
       "      <td>522200</td>\n",
       "      <td>Vianópolis - GO</td>\n",
       "      <td>14088</td>\n",
       "      <td>857968</td>\n",
       "      <td>52</td>\n",
       "      <td>Goiás</td>\n",
       "      <td>0,712</td>\n",
       "    </tr>\n",
       "    <tr>\n",
       "      <th>5560</th>\n",
       "      <td>522205</td>\n",
       "      <td>Vicentinópolis - GO</td>\n",
       "      <td>9002</td>\n",
       "      <td>480173</td>\n",
       "      <td>52</td>\n",
       "      <td>Goiás</td>\n",
       "      <td>0,684</td>\n",
       "    </tr>\n",
       "    <tr>\n",
       "      <th>5561</th>\n",
       "      <td>522220</td>\n",
       "      <td>Vila Boa - GO</td>\n",
       "      <td>6451</td>\n",
       "      <td>179899</td>\n",
       "      <td>52</td>\n",
       "      <td>Goiás</td>\n",
       "      <td>0,647</td>\n",
       "    </tr>\n",
       "    <tr>\n",
       "      <th>5562</th>\n",
       "      <td>522230</td>\n",
       "      <td>Vila Propício - GO</td>\n",
       "      <td>5941</td>\n",
       "      <td>308013</td>\n",
       "      <td>52</td>\n",
       "      <td>Goiás</td>\n",
       "      <td>0,634</td>\n",
       "    </tr>\n",
       "    <tr>\n",
       "      <th>5563</th>\n",
       "      <td>530010</td>\n",
       "      <td>Brasília - DF</td>\n",
       "      <td>3094325</td>\n",
       "      <td>286943782</td>\n",
       "      <td>53</td>\n",
       "      <td>Distrito Federal</td>\n",
       "      <td>0,824</td>\n",
       "    </tr>\n",
       "  </tbody>\n",
       "</table>\n",
       "<p>5564 rows × 7 columns</p>\n",
       "</div>"
      ],
      "text/plain": [
       "          id                      cidade populacao        PIB  codigo_uf  \\\n",
       "0     110001  Alta Floresta D'Oeste - RO     22516     734469         11   \n",
       "1     110002              Ariquemes - RO    111148    3209761         11   \n",
       "2     110003                 Cabixi - RO      5067     238412         11   \n",
       "3     110004                 Cacoal - RO     86416    2792383         11   \n",
       "4     110005             Cerejeiras - RO     16088     743037         11   \n",
       "...      ...                         ...       ...        ...        ...   \n",
       "5559  522200             Vianópolis - GO     14088     857968         52   \n",
       "5560  522205         Vicentinópolis - GO      9002     480173         52   \n",
       "5561  522220               Vila Boa - GO      6451     179899         52   \n",
       "5562  522230          Vila Propício - GO      5941     308013         52   \n",
       "5563  530010               Brasília - DF   3094325  286943782         53   \n",
       "\n",
       "               nome_uf   IDHM  \n",
       "0             Rondônia  0,641  \n",
       "1             Rondônia  0,702  \n",
       "2             Rondônia   0,65  \n",
       "3             Rondônia  0,718  \n",
       "4             Rondônia  0,692  \n",
       "...                ...    ...  \n",
       "5559             Goiás  0,712  \n",
       "5560             Goiás  0,684  \n",
       "5561             Goiás  0,647  \n",
       "5562             Goiás  0,634  \n",
       "5563  Distrito Federal  0,824  \n",
       "\n",
       "[5564 rows x 7 columns]"
      ]
     },
     "execution_count": 360,
     "metadata": {},
     "output_type": "execute_result"
    }
   ],
   "source": [
    "df_final = pd.merge(df_populacao,IDHM,left_on='id2',right_on='id',how='inner')\n",
    "df_final = df_final[['id2','cidade_x','populacao','PIB','codigo_uf','nome_uf','IDHM']]\n",
    "df_final.columns = ['id','cidade','populacao','PIB','codigo_uf','nome_uf','IDHM']\n",
    "df_final"
   ]
  },
  {
   "cell_type": "markdown",
   "id": "d4508f2f",
   "metadata": {},
   "source": [
    "# SNOWFLAKE"
   ]
  },
  {
   "cell_type": "markdown",
   "id": "e6130518",
   "metadata": {},
   "source": [
    "Nessa seção eu armazeno a base de dados criada acima em um banco de dados Snowflake."
   ]
  },
  {
   "cell_type": "code",
   "execution_count": 362,
   "id": "14fe8a86",
   "metadata": {},
   "outputs": [],
   "source": [
    "dados_lst = df_final.values.tolist()"
   ]
  },
  {
   "cell_type": "markdown",
   "id": "f2e3f625",
   "metadata": {},
   "source": [
    "Definição dos parâmetros necessários para criar uma sessão do Snowflake."
   ]
  },
  {
   "cell_type": "code",
   "execution_count": 363,
   "id": "d9fe909c",
   "metadata": {},
   "outputs": [],
   "source": [
    "from snowflake.snowpark import Session\n",
    "connection_parameters = {\n",
    "   \"account\": \"iba52159.east-us-2.azure\",\n",
    "   \"user\": \"civildorock\",\n",
    "   \"password\": \"Daronsoad1993@\",\n",
    "   \"role\": \"ACCOUNTADMIN\",  # optional\n",
    "   #\"warehouse\": \"<your snowflake warehouse>\",  # optional\n",
    "   \"database\": \"DESAFIO\"  # optional\n",
    "   ,\"schema\": \"PUBLIC\"  # optional\n",
    "\n",
    " }  \n",
    "\n",
    "# Começo configurando uma sessão para o Snowflake.\n",
    "\n",
    "session = Session.builder.configs(connection_parameters).create() "
   ]
  },
  {
   "cell_type": "markdown",
   "id": "f7391bc3",
   "metadata": {},
   "source": [
    "# 2. Transformação de Dados com PySpark e SQL:"
   ]
  },
  {
   "cell_type": "markdown",
   "id": "8eb09831",
   "metadata": {},
   "source": [
    "Aqui executo os códigos do PySpark usando Snowflake Spark."
   ]
  },
  {
   "cell_type": "code",
   "execution_count": 368,
   "id": "4340004d",
   "metadata": {},
   "outputs": [
    {
     "name": "stdout",
     "output_type": "stream",
     "text": [
      "-----------------------------------------------------------------------------------------------------------\n",
      "|\"ID\"    |\"CIDADE\"                    |\"POPULACAO\"  |\"PIB\"      |\"CODIGO_UF\"  |\"NOME_UF\"         |\"IDHM\"  |\n",
      "-----------------------------------------------------------------------------------------------------------\n",
      "|110001  |Alta Floresta D'Oeste - RO  |22516        |734469     |11           |Rondônia          |0,641   |\n",
      "|530010  |Brasília - DF               |3094325      |286943782  |53           |Distrito Federal  |0,824   |\n",
      "|522230  |Vila Propício - GO          |5941         |308013     |52           |Goiás             |0,634   |\n",
      "|522220  |Vila Boa - GO               |6451         |179899     |52           |Goiás             |0,647   |\n",
      "|522205  |Vicentinópolis - GO         |9002         |480173     |52           |Goiás             |0,684   |\n",
      "|522200  |Vianópolis - GO             |14088        |857968     |52           |Goiás             |0,712   |\n",
      "|522190  |Varjão - GO                 |3848         |105088     |52           |Goiás             |0,687   |\n",
      "|522185  |Valparaíso de Goiás - GO    |175720       |2964512    |52           |Goiás             |0,746   |\n",
      "|522180  |Urutaí - GO                 |3056         |164803     |52           |Goiás             |0,732   |\n",
      "|522170  |Uruana - GO                 |13795        |294357     |52           |Goiás             |0,703   |\n",
      "-----------------------------------------------------------------------------------------------------------\n",
      "\n"
     ]
    }
   ],
   "source": [
    "from snowflake.snowpark.functions import col\n",
    "# Criar o dataframe que extraimos no IBGE e IPEA e escrevê-lo dentro da cloud Snowflake\n",
    "df = session.create_dataframe(dados_lst, schema=[\"ID\", \"cidade\",\"populacao\", \"PIB\",'codigo_uf','nome_uf','IDHM'])\n",
    "df.write.mode(\"overwrite\").save_as_table(\"desafio_data\")\n",
    "session.table(\"desafio_data\").collect()\n",
    "df.write.save_as_table(\"desafio_data\", mode=\"overwrite\")\n",
    "session.table(\"desafio_data\").collect()\n",
    "df_table = session.table(\"desafio_data\")\n",
    "# Mostrar a tabela criada no snowflake\n",
    "df_table.show()"
   ]
  },
  {
   "cell_type": "markdown",
   "id": "cc9f9d75",
   "metadata": {},
   "source": [
    "Verificar se existem duplicados usando o SQL"
   ]
  },
  {
   "cell_type": "code",
   "execution_count": 378,
   "id": "17a83c6a",
   "metadata": {
    "scrolled": true
   },
   "outputs": [
    {
     "name": "stdout",
     "output_type": "stream",
     "text": [
      "---------------------\n",
      "|\"ID\"  |\"COUNT(*)\"  |\n",
      "---------------------\n",
      "|      |            |\n",
      "---------------------\n",
      "\n"
     ]
    }
   ],
   "source": [
    "duplicate = session.sql(\"select id, count(*) from desafio_data group by ID having count(*)>1\")\n",
    "duplicate.show()"
   ]
  },
  {
   "cell_type": "markdown",
   "id": "d5c918fa",
   "metadata": {},
   "source": [
    "Ver a quantidade de linhas"
   ]
  },
  {
   "cell_type": "code",
   "execution_count": 380,
   "id": "e819e9fa",
   "metadata": {},
   "outputs": [
    {
     "name": "stdout",
     "output_type": "stream",
     "text": [
      "--------------------\n",
      "|\"CONTAGEM_LINHA\"  |\n",
      "--------------------\n",
      "|5564              |\n",
      "--------------------\n",
      "\n"
     ]
    }
   ],
   "source": [
    "num_linhas = session.sql(\"select count(*) as contagem_linha from desafio_data\")\n",
    "num_linhas.show()"
   ]
  },
  {
   "cell_type": "markdown",
   "id": "454a5a73",
   "metadata": {},
   "source": [
    "# 3. Modelagem e Documentação"
   ]
  },
  {
   "cell_type": "markdown",
   "id": "0b4eea58",
   "metadata": {},
   "source": [
    "A tabela final possui 5564 registros informações de municípios Brasileiros como id do município, nome do município, sigla do estado, nome do estado,população, PIB e IDH. Os dados foram coletados no ano de 2021 no site do IBGE e do IPEA. \n",
    "\n",
    "Tive o cuidado de escrever todos os passos no notebook antes de cada linha de código objetivando ficar claro tudo que fiz."
   ]
  },
  {
   "cell_type": "code",
   "execution_count": null,
   "id": "00db0d88",
   "metadata": {},
   "outputs": [],
   "source": []
  },
  {
   "cell_type": "code",
   "execution_count": null,
   "id": "65620980",
   "metadata": {},
   "outputs": [],
   "source": []
  },
  {
   "cell_type": "code",
   "execution_count": null,
   "id": "da5a8068",
   "metadata": {},
   "outputs": [],
   "source": []
  },
  {
   "cell_type": "code",
   "execution_count": null,
   "id": "544af4a1",
   "metadata": {},
   "outputs": [],
   "source": []
  },
  {
   "cell_type": "code",
   "execution_count": null,
   "id": "a899589f",
   "metadata": {},
   "outputs": [],
   "source": []
  }
 ],
 "metadata": {
  "kernelspec": {
   "display_name": "Python 3 (ipykernel)",
   "language": "python",
   "name": "python3"
  },
  "language_info": {
   "codemirror_mode": {
    "name": "ipython",
    "version": 3
   },
   "file_extension": ".py",
   "mimetype": "text/x-python",
   "name": "python",
   "nbconvert_exporter": "python",
   "pygments_lexer": "ipython3",
   "version": "3.11.5"
  }
 },
 "nbformat": 4,
 "nbformat_minor": 5
}
